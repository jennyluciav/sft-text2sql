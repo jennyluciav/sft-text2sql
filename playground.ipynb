{
 "cells": [
  {
   "attachments": {},
   "cell_type": "markdown",
   "metadata": {},
   "source": [
    "# Natural Language to SQL Notebook\n",
    "For this project the AI21 Grande Instruct model seems like the most appropiate. \n",
    "We followed its guide to create the endpoint:\n",
    "https://github.com/AI21Labs/SageMaker/blob/main/J2_GrandeInstruct_example_model_use.ipynb\n",
    "\n",
    "\n",
    "## Prerequisites\n",
    "- Please make sure you have boto3 installed and your credentials in ~/.aws/credentials using aws config command. Also set your default region to a region where the models are available eg. us-east-1.\n",
    "- If you are not running in sagemaker studio, you need to create a sage-maker role \n",
    "- Your account needs access to \"ml.g5.12xlarge\" instances.\n"
   ]
  },
  {
   "cell_type": "code",
   "execution_count": null,
   "metadata": {},
   "outputs": [],
   "source": [
    "model_package_map = {\n",
    "    \"us-east-1\": \"arn:aws:sagemaker:us-east-1:865070037744:model-package/j2-grande-instruct-v1-1-43-b1704f916990312a8e21b249a0bd479c\",\n",
    "    \"us-east-2\": \"arn:aws:sagemaker:us-east-2:057799348421:model-package/j2-grande-instruct-v1-1-43-b1704f916990312a8e21b249a0bd479c\",\n",
    "    \"us-west-1\": \"arn:aws:sagemaker:us-west-1:382657785993:model-package/j2-grande-instruct-v1-1-43-b1704f916990312a8e21b249a0bd479c\",\n",
    "    \"us-west-2\": \"arn:aws:sagemaker:us-west-2:594846645681:model-package/j2-grande-instruct-v1-1-43-b1704f916990312a8e21b249a0bd479c\",\n",
    "    \"ca-central-1\": \"arn:aws:sagemaker:ca-central-1:470592106596:model-package/j2-grande-instruct-v1-1-43-b1704f916990312a8e21b249a0bd479c\",\n",
    "    \"eu-central-1\": \"arn:aws:sagemaker:eu-central-1:446921602837:model-package/j2-grande-instruct-v1-1-43-b1704f916990312a8e21b249a0bd479c\",\n",
    "    \"eu-west-1\": \"arn:aws:sagemaker:eu-west-1:985815980388:model-package/j2-grande-instruct-v1-1-43-b1704f916990312a8e21b249a0bd479c\",\n",
    "    \"eu-west-2\": \"arn:aws:sagemaker:eu-west-2:856760150666:model-package/j2-grande-instruct-v1-1-43-b1704f916990312a8e21b249a0bd479c\",\n",
    "    \"eu-west-3\": \"arn:aws:sagemaker:eu-west-3:843114510376:model-package/j2-grande-instruct-v1-1-43-b1704f916990312a8e21b249a0bd479c\",\n",
    "    \"eu-north-1\": \"arn:aws:sagemaker:eu-north-1:136758871317:model-package/j2-grande-instruct-v1-1-43-b1704f916990312a8e21b249a0bd479c\",\n",
    "    \"ap-southeast-1\": \"arn:aws:sagemaker:ap-southeast-1:192199979996:model-package/j2-grande-instruct-v1-1-43-b1704f916990312a8e21b249a0bd479c\",\n",
    "    \"ap-southeast-2\": \"arn:aws:sagemaker:ap-southeast-2:666831318237:model-package/j2-grande-instruct-v1-1-43-b1704f916990312a8e21b249a0bd479c\",\n",
    "    \"ap-northeast-2\": \"arn:aws:sagemaker:ap-northeast-2:745090734665:model-package/j2-grande-instruct-v1-1-43-b1704f916990312a8e21b249a0bd479c\",\n",
    "    \"ap-northeast-1\": \"arn:aws:sagemaker:ap-northeast-1:977537786026:model-package/j2-grande-instruct-v1-1-43-b1704f916990312a8e21b249a0bd479c\",\n",
    "    \"ap-south-1\": \"arn:aws:sagemaker:ap-south-1:077584701553:model-package/j2-grande-instruct-v1-1-43-b1704f916990312a8e21b249a0bd479c\",\n",
    "    \"sa-east-1\": \"arn:aws:sagemaker:sa-east-1:270155090741:model-package/j2-grande-instruct-v1-1-43-b1704f916990312a8e21b249a0bd479c\"\n",
    "}"
   ]
  },
  {
   "cell_type": "code",
   "execution_count": null,
   "metadata": {},
   "outputs": [],
   "source": [
    "#%pip install -qU \"sagemaker\"\n",
    "from sagemaker import ModelPackage\n",
    "from sagemaker import get_execution_role\n",
    "import sagemaker as sage\n",
    "import boto3"
   ]
  },
  {
   "cell_type": "code",
   "execution_count": null,
   "metadata": {},
   "outputs": [],
   "source": [
    "boto3.__version__"
   ]
  },
  {
   "cell_type": "code",
   "execution_count": null,
   "metadata": {},
   "outputs": [],
   "source": [
    "# ! pip install -U \"ai21[SM]\"\n",
    "# ! pip install langchain_experimental langchain\n",
    "import ai21"
   ]
  },
  {
   "cell_type": "code",
   "execution_count": null,
   "metadata": {},
   "outputs": [],
   "source": [
    "region = boto3.Session().region_name\n",
    "if region not in model_package_map.keys():\n",
    "    raise (\"UNSUPPORTED REGION\")\n",
    "\n",
    "model_package_arn = model_package_map[region]\n",
    "region"
   ]
  },
  {
   "cell_type": "code",
   "execution_count": null,
   "metadata": {},
   "outputs": [],
   "source": [
    "# create a role and give it full sagemaker access. (https://stackoverflow.com/questions/47710558/the-current-aws-identity-is-not-a-role-for-sagemaker)\n",
    "# Only need to do this if you are running this notebook outside of Sagemaker studio\n",
    "SAGEMAKER_ROLE = 'sagemaker-role' # TODO replace the role name"
   ]
  },
  {
   "cell_type": "code",
   "execution_count": null,
   "metadata": {},
   "outputs": [],
   "source": [
    "try: \n",
    "    role = get_execution_role()\n",
    "except ValueError: # workaround if you are running this notebook locally\n",
    "    iam = boto3.client('iam')\n",
    "    role = iam.get_role(RoleName=SAGEMAKER_ROLE)['Role']['Arn']\n",
    "sagemaker_session = sage.Session()\n",
    "\n",
    "runtime_sm_client = boto3.client(\"runtime.sagemaker\")\n",
    "print(f\"Using role: {role}\")\n"
   ]
  },
  {
   "cell_type": "code",
   "execution_count": null,
   "metadata": {},
   "outputs": [],
   "source": [
    "endpoint_name = \"j2-grande-instruct-g5-12\"\n",
    "\n",
    "content_type = \"application/json\"\n",
    "\n",
    "real_time_inference_instance_type = (\n",
    "    \"ml.g5.12xlarge\" # Optimal cost-latency tradeoff\n",
    ")"
   ]
  },
  {
   "cell_type": "markdown",
   "metadata": {},
   "source": [
    "## Deploy the model"
   ]
  },
  {
   "cell_type": "code",
   "execution_count": null,
   "metadata": {},
   "outputs": [],
   "source": [
    "# create a deployable model from the model package.\n",
    "model = ModelPackage(\n",
    "    role=role, model_package_arn=model_package_arn, sagemaker_session=sagemaker_session\n",
    ")\n",
    "\n",
    "# Deploy the model\n",
    "predictor = model.deploy(1, real_time_inference_instance_type, endpoint_name=endpoint_name, \n",
    "                         model_data_download_timeout=3600,\n",
    "                         container_startup_health_check_timeout=600,\n",
    "                        )"
   ]
  },
  {
   "attachments": {},
   "cell_type": "markdown",
   "metadata": {},
   "source": [
    "## Use this cell to deploy endpoint if it is turned off"
   ]
  },
  {
   "cell_type": "code",
   "execution_count": null,
   "metadata": {},
   "outputs": [],
   "source": [
    "sagemaker_client = boto3.client('sagemaker')\n",
    "\n",
    "# The name of the endpoint configuration associated with this endpoint.\n",
    "endpoint_config_name='j2-grande-instruct-g5-12'\n",
    "\n",
    "\n",
    "create_endpoint_response = sagemaker_client.create_endpoint(\n",
    "                                            EndpointName=endpoint_name, \n",
    "                                            EndpointConfigName=endpoint_config_name) \n",
    "create_endpoint_response\n"
   ]
  },
  {
   "cell_type": "markdown",
   "metadata": {},
   "source": [
    "## Experiments"
   ]
  },
  {
   "cell_type": "markdown",
   "metadata": {},
   "source": [
    "### Play around with the model"
   ]
  },
  {
   "cell_type": "code",
   "execution_count": null,
   "metadata": {},
   "outputs": [],
   "source": [
    "instruction = \"\"\"\n",
    "Create an executable SQL statement from instruction:\n",
    "\n",
    "Instruction:\n",
    "What were the average monthly $ sales for product 03821 in EMEA last year?\n",
    "\n",
    "SQL Query:\n",
    "\"\"\"\n",
    "\n",
    "response = ai21.Completion.execute(sm_endpoint=endpoint_name,\n",
    "                                   prompt=instruction,\n",
    "                                   maxTokens=100,\n",
    "                                   temperature=0,\n",
    "                                   numResults=1)\n",
    "\n",
    "print(response['completions'][0]['data']['text'])"
   ]
  },
  {
   "cell_type": "code",
   "execution_count": null,
   "metadata": {},
   "outputs": [],
   "source": [
    "instruction = \"\"\"Write an engaging product description for clothing eCommerce site.\n",
    "Product: Humor Men's Graphic T-Shirt.\n",
    "Description:\n",
    "\n",
    "\"\"\"\n",
    "\n",
    "response = ai21.Completion.execute(sm_endpoint=endpoint_name,\n",
    "                                   prompt=instruction,\n",
    "                                   maxTokens=100,\n",
    "                                   temperature=0,\n",
    "                                   numResults=1)\n",
    "\n",
    "print(response['completions'][0]['data']['text'])"
   ]
  },
  {
   "cell_type": "markdown",
   "metadata": {},
   "source": [
    "# integrate langchain into workflow"
   ]
  },
  {
   "cell_type": "code",
   "execution_count": null,
   "metadata": {},
   "outputs": [],
   "source": [
    "from langchain.prompts import PromptTemplate\n",
    "\n",
    "prompt = PromptTemplate.from_template(\"What is a good name for a company that makes {product}?\")\n",
    "prompt.format(product=\"colorful socks\")"
   ]
  },
  {
   "cell_type": "code",
   "execution_count": null,
   "metadata": {},
   "outputs": [],
   "source": [
    "from langchain.llms.sagemaker_endpoint import SagemakerEndpoint\n",
    "from langchain.llms.sagemaker_endpoint import LLMContentHandler\n",
    "from typing import Dict\n",
    "import json \n",
    "\n",
    "class ContentHandler(LLMContentHandler):\n",
    "    content_type = \"application/json\"\n",
    "    accepts = \"application/json\"\n",
    "\n",
    "    def transform_input(self, prompt: str, model_kwargs: Dict) -> bytes:\n",
    "        input_str = json.dumps({\"prompt\": prompt, **model_kwargs})\n",
    "        # print(input_str.encode('utf-8'))\n",
    "        return input_str.encode(\"utf-8\")\n",
    "\n",
    "    def transform_output(self, output: bytes) -> str:\n",
    "        response_json = json.loads(output.read().decode(\"utf-8\"))\n",
    "        print(response_json[\"completions\"][0][\"data\"][\"text\"])\n",
    "\n",
    "        return response_json[\"completions\"][0][\"data\"][\"text\"]\n",
    "    \n",
    "\n",
    "content_handler = ContentHandler()\n",
    "parameters = {\"maxTokens\": 80, \"temperature\": 0, \"numResults\": 1}\n",
    "\n",
    "llm_ai21 = SagemakerEndpoint(\n",
    "    endpoint_name=endpoint_name,\n",
    "    region_name=region,\n",
    "    model_kwargs=parameters,\n",
    "    content_handler=content_handler,\n",
    ")"
   ]
  },
  {
   "cell_type": "code",
   "execution_count": null,
   "metadata": {},
   "outputs": [],
   "source": [
    "from langchain import SQLDatabase\n",
    "from langchain_experimental.sql.base import SQLDatabaseSequentialChain\n",
    "\n",
    "# Reference: https://python.langchain.com/en/latest/modules/chains/examples/sqlite.html#sqldatabasesequentialchain\n",
    "from sqlalchemy.exc import ProgrammingError"
   ]
  },
  {
   "cell_type": "code",
   "execution_count": null,
   "metadata": {},
   "outputs": [],
   "source": [
    "RDS_PORT=\"5432\"\n",
    "RDS_USERNAME=\"mihirma\"\n",
    "RDS_PASSWORD=\"\"\n",
    "RDS_DB_NAME = \"postgres\" \n",
    "RDS_ENDPOINT = \"localhost\"\n",
    "RDS_URI = f\"postgresql+psycopg2://{RDS_USERNAME}:{RDS_PASSWORD}@{RDS_ENDPOINT}:{RDS_PORT}/{RDS_DB_NAME}\"\n",
    "\n",
    "db = SQLDatabase.from_uri(RDS_URI,\n",
    "                           include_tables=[\"employees\", \"projects\", \"timelog\"],\n",
    "                           sample_rows_in_table_info=4)"
   ]
  },
  {
   "cell_type": "markdown",
   "metadata": {},
   "source": [
    "### SQL Database sequential chain \n",
    "Performance: not so good. much worse than expected. barely gets it right half the time."
   ]
  },
  {
   "cell_type": "code",
   "execution_count": null,
   "metadata": {},
   "outputs": [],
   "source": [
    "EXAMPLE_PROMPTS = [\n",
    "    \"What is Velma's employee id?\",\n",
    "    \"What is the email address of the Chief Technology Officer?\",\n",
    "    \"How many hours did Peter work in 2022?\",\n",
    "    \"How many Software Engineers does the company have?\",\n",
    "    \"Who are the Software Engineers of the company?\",\n",
    "    \"Who are the Employees of the company?\",\n",
    "    \"List all Software Engineers who have Peter as their manager\",\n",
    "    \"Who are the Software Engineers working on the 'Restaurant Management App' project?\"\n",
    "]\n",
    "results = []\n",
    "for i in range(10):\n",
    "    db_chain = SQLDatabaseSequentialChain.from_llm(\n",
    "        llm_ai21, \n",
    "        db, \n",
    "        verbose=True, \n",
    "        use_query_checker=False, \n",
    "        return_intermediate_steps=True,\n",
    "    )\n",
    "    result = None\n",
    "    try:\n",
    "        result = db_chain(EXAMPLE_PROMPTS[4])\n",
    "        results.append(result[\"result\"])\n",
    "    except ProgrammingError as exc:\n",
    "        print(f\"\\n\\n{exc}\")\n",
    "        results.append(None)\n",
    "    "
   ]
  },
  {
   "cell_type": "code",
   "execution_count": null,
   "metadata": {},
   "outputs": [],
   "source": [
    "#result[\"result\"]\n",
    "# temperature: 1 -> success: 3/10\n",
    "# temperature: 0 -> success: 0/10\n",
    "# temperature: 0.5 -> success 4/10\n",
    "# temperature: 0.75 -> success 5/10\n",
    "\n",
    "results"
   ]
  },
  {
   "cell_type": "markdown",
   "metadata": {},
   "source": [
    "### Result explanation"
   ]
  },
  {
   "cell_type": "code",
   "execution_count": null,
   "metadata": {},
   "outputs": [],
   "source": [
    "import pandas as pd\n",
    "\n",
    "def explain_result(result):\n",
    "    instruction = f\"\"\"\n",
    "    I am building a text2sql project. Please formulate an answer to my question in natural language in a human readable format.\n",
    "\n",
    "    Query: \n",
    "    List all the software engineers. \n",
    "    Response: \n",
    "    [('Peter', 'Kabel', 'Software Engineer'), ('Max', 'Mustermann', 'Software Engineer'), ('Fidel', 'Wind', 'Software Engineer')]\n",
    "    Explanation:\n",
    "    The Software Engineers are Peter Kabel, Max Mustermann and Fidel Wind.\n",
    "\n",
    "    Query:\n",
    "    How many software engineers does the company have?\n",
    "    Response: \n",
    "    3\n",
    "    Explanation:\n",
    "    \"\"\"\n",
    "    response = ai21.Completion.execute(sm_endpoint=endpoint_name,\n",
    "                                    prompt=instruction,\n",
    "                                    maxTokens=80,\n",
    "                                    temperature=0,\n",
    "                                    numResults=1)\n",
    "\n",
    "    return response['completions'][0]['data']['text']\n",
    "explain_result(None)"
   ]
  },
  {
   "cell_type": "markdown",
   "metadata": {},
   "source": [
    "### SQL Database Chain (using this right now)\n",
    "Performs the best out of all the options. currently using zero shot prompting and works well for the basic cases. "
   ]
  },
  {
   "cell_type": "code",
   "execution_count": null,
   "metadata": {},
   "outputs": [],
   "source": [
    "from langchain_experimental.sql import SQLDatabaseChain\n",
    "\n",
    "\n",
    "db_chain = SQLDatabaseChain.from_llm(llm_ai21, db, verbose=True, return_intermediate_steps=True)\n",
    "result = db_chain(\"List all the software engineers.\")\n",
    "#pd.DataFrame(result)\n",
    "print(result[\"intermediate_steps\"][1])\n",
    "print(result)"
   ]
  },
  {
   "cell_type": "markdown",
   "metadata": {},
   "source": [
    "### intergrate few shot prompting"
   ]
  },
  {
   "cell_type": "code",
   "execution_count": null,
   "metadata": {},
   "outputs": [],
   "source": [
    "from langchain.prompts import PromptTemplate\n",
    "\n",
    "\n",
    "TEMPLATE = \"\"\"Given an input question, create a syntactically correct {dialect} query to run.\n",
    "Use the following format:\n",
    "\n",
    "Question: \"Question here\"\n",
    "SQLQuery:\n",
    "\"SQL Query to run\"\n",
    "\n",
    "Only use the following tables:\n",
    "\n",
    "{table_info}.\n",
    "\n",
    "Some examples of SQL queries that correspond to questions are:\n",
    "\n",
    "{few_shot_examples}\n",
    "\n",
    "Question: {input}\"\"\"\n",
    "\n",
    "\n",
    "\n",
    "\n",
    "CUSTOM_PROMPT = PromptTemplate(\n",
    "    input_variables=[\"input\", \"few_shot_examples\", \"table_info\", \"dialect\"], template=TEMPLATE\n",
    ")\n",
    "\n",
    "FEW_SHOT_EXAMPLES = \"\"\"\n",
    "\n",
    "Question: Who worked the most hours in 2022?\n",
    "SQL Query:\n",
    "SELECT e.first_name, e.last_name, SUM(t.entered_hours) AS total_hours_worked\n",
    "FROM employees e\n",
    "JOIN timelog t ON e.employee_id = t.employee_id\n",
    "WHERE EXTRACT(YEAR FROM t.working_day) = 2022\n",
    "GROUP BY e.employee_id, e.first_name, e.last_name\n",
    "ORDER BY total_hours_worked DESC\n",
    "LIMIT 1;\n",
    "\n",
    "##\n",
    "\n",
    "Question: How many Software Engineers does the company have?\n",
    "SQL Query:\n",
    "SELECT COUNT(*) from employees\n",
    "WHERE designation='Software Engineer';\n",
    "\n",
    "##\n",
    "\n",
    "Question: How many hours did Velma work in July 2022?\n",
    "SQL Query:\n",
    "SELECT SUM(t.entered_hours) AS total_hours_worked\n",
    "FROM employees e\n",
    "JOIN timelog t ON e.employee_id = t.employee\n",
    "WHERE e.first_name = 'Velma'\n",
    "  AND EXTRACT(YEAR FROM t.working_day) = 2022\n",
    "  AND EXTRACT(MONTH FROM t.working_day) = 7;\n",
    "\n",
    "##\n",
    "\n",
    "Question: Who is working on the Music generator project?\n",
    "SQL Query:\n",
    "SELECT * FROM employees\n",
    "WHERE project_id=(\n",
    "SELECT project_id FROM projects\n",
    "WHERE project_name = 'Music generator'\n",
    ");\n",
    "\n",
    "##\n",
    "\n",
    "Question: Who works under Max?\n",
    "SQL Query:\n",
    "SELECT * FROM employees\n",
    "WHERE manager_id=(\n",
    "SELECT employee_id FROM employees\n",
    "WHERE first_name = 'Max');\n",
    "\n",
    "##\n",
    "\n",
    "Question: Who worked the least hours in April 2022?\n",
    "SQL Query:\n",
    "SELECT e.first_name, e.last_name, SUM(t.entered_hours) AS total_hours_worked\n",
    "FROM employees e\n",
    "JOIN timelog t ON e.employee_id = t.employee\n",
    "WHERE EXTRACT(YEAR FROM t.working_day) = 2022\n",
    "  AND EXTRACT(MONTH FROM t.working_day) = 4\n",
    "GROUP BY e.employee_id, e.first_name, e.last_name\n",
    "ORDER BY total_hours_worked\n",
    "LIMIT 1;\n",
    "\n",
    "##\n",
    "\n",
    "\"\"\"\n",
    "\n"
   ]
  },
  {
   "cell_type": "code",
   "execution_count": null,
   "metadata": {},
   "outputs": [],
   "source": [
    "from langchain.chains import create_sql_query_chain\n",
    "\n",
    "\n",
    "input=\"List all software engineers\"\n",
    "prompt = CUSTOM_PROMPT.format(\n",
    "    input=input,\n",
    "    table_info=db.table_info,\n",
    "    dialect=\"PostgreSQL\",\n",
    "    few_shot_examples=FEW_SHOT_EXAMPLES\n",
    ")\n",
    "\n",
    "chain = create_sql_query_chain(llm_ai21, db)\n",
    "response = chain.invoke({\"question\": prompt})\n",
    "print(response)\n",
    "print(\"response:\")\n",
    "response = response.split(\"##\")[0]\n",
    "print(response)\n",
    "\n",
    "print(\"query results:\")\n",
    "db.run(response)"
   ]
  },
  {
   "cell_type": "markdown",
   "metadata": {},
   "source": [
    "### SQL Agents\n",
    "Dont perform well with our model. Maybe with a better model."
   ]
  },
  {
   "cell_type": "code",
   "execution_count": null,
   "metadata": {},
   "outputs": [],
   "source": [
    "from langchain.agents import create_sql_agent\n",
    "from langchain.agents.agent_toolkits import SQLDatabaseToolkit\n",
    "from langchain.sql_database import SQLDatabase\n",
    "from langchain.agents import AgentExecutor\n",
    "from langchain.agents.agent_types import AgentType\n",
    "\n",
    "toolkit = SQLDatabaseToolkit(db=db, llm=llm_ai21)\n",
    "agent_executor = create_sql_agent(\n",
    "    llm=llm_ai21,\n",
    "    toolkit=toolkit,\n",
    "    verbose=True,\n",
    "    agent_type=AgentType.ZERO_SHOT_REACT_DESCRIPTION,\n",
    ")\n",
    "\n",
    "agent_executor.run(\"Describe the employees table\")"
   ]
  },
  {
   "cell_type": "markdown",
   "metadata": {},
   "source": [
    "### Miscellanious"
   ]
  },
  {
   "cell_type": "code",
   "execution_count": null,
   "metadata": {},
   "outputs": [],
   "source": [
    "response = ai21.Completion.execute(sm_endpoint=endpoint_name,\n",
    "                                   prompt=prompt.format(product=\"colorful socks\"),\n",
    "                                   maxTokens=100,\n",
    "                                   temperature=0,\n",
    "                                   numResults=1)\n",
    "print(response['completions'][0]['data']['text'])"
   ]
  },
  {
   "cell_type": "code",
   "execution_count": null,
   "metadata": {},
   "outputs": [],
   "source": [
    "promttext = \"\"\" \n",
    "Create SQL statement from instruction.\n",
    "\n",
    "Database: \n",
    "Employees: employees(employee_id, first_name, last_name, designation, project_id, email, manager_id)\n",
    "Projects: projects(project_id, project_name, customer)\n",
    "Timelog: timelog(entry_id, employee, working_day, entered_hours)\n",
    "\n",
    "Request: Find what is Peter's email adress.\n",
    "SQL statement:\n",
    "SELECT email FROM employees WHERE first_name='Peter';\n",
    "\n",
    "##\n",
    "\n",
    "Create SQL statement from instruction.\n",
    "\n",
    "Database: \n",
    "Employees: employees(employee_id, first_name, last_name, designation, project_id, email, manager_id)\n",
    "Projects: projects(project_id, project_name, customer)\n",
    "Timelog: timelog(entry_id, employee, working_day, entered_hours)\n",
    "\n",
    "Request: How many Software Engineers does the company have?\n",
    "SQL statement:\n",
    "SELECT COUNT(*) from employees\n",
    "WHERE designation='Software Engineer';\n",
    "##\n",
    "\n",
    "Create SQL statement from instruction.\n",
    "\n",
    "Database: \n",
    "Employees: employees(employee_id, first_name, last_name, designation, project_id, email, manager_id)\n",
    "Projects: projects(project_id, project_name, customer)\n",
    "Timelog: timelog(entry_id, employee, working_day, entered_hours)\n",
    "\n",
    "Request: How many hours did Velma work in 2022?\n",
    "SQL statement:\n",
    "SELECT SUM(entered_hours) from timelog \n",
    "WHERE employee=(\n",
    "SELECT employee_id FROM employees\n",
    "WHERE first_name = 'Velma'\n",
    ");\n",
    "\n",
    "##\n",
    "\n",
    "Create SQL statement from instruction.\n",
    "\n",
    "Database: \n",
    "Employees: employees(employee_id, first_name, last_name, designation, project_id, email, manager_id)\n",
    "Projects: projects(project_id, project_name, customer)\n",
    "Timelog: timelog(entry_id, employee, working_day, entered_hours)\n",
    "\n",
    "Request: {query}\n",
    "SQL statement:\n",
    "\"\"\"\n",
    "\n",
    "query = \"What is Velma's managers employee id?\" \n",
    "\n",
    "\n",
    "prompt = PromptTemplate.from_template(promttext)\n",
    "prompt.format(query=query)"
   ]
  },
  {
   "cell_type": "code",
   "execution_count": null,
   "metadata": {},
   "outputs": [],
   "source": [
    "response = ai21.Completion.execute(sm_endpoint=endpoint_name,\n",
    "                                   prompt=prompt.format(query=query),\n",
    "                                   maxTokens=80,\n",
    "                                   temperature=0,\n",
    "                                   numResults=1)\n",
    "print(response['completions'][0]['data']['text'])"
   ]
  },
  {
   "attachments": {},
   "cell_type": "markdown",
   "metadata": {},
   "source": [
    "## Teardown"
   ]
  },
  {
   "cell_type": "code",
   "execution_count": null,
   "metadata": {},
   "outputs": [],
   "source": [
    "# Delete endpoint\n",
    "sagemaker_client.delete_endpoint(EndpointName=endpoint_name)\n"
   ]
  },
  {
   "attachments": {},
   "cell_type": "markdown",
   "metadata": {},
   "source": [
    "# Connecting to a RDS instance"
   ]
  },
  {
   "cell_type": "code",
   "execution_count": null,
   "metadata": {},
   "outputs": [],
   "source": []
  }
 ],
 "metadata": {
  "kernelspec": {
   "display_name": "text2sql",
   "language": "python",
   "name": "python3"
  },
  "language_info": {
   "codemirror_mode": {
    "name": "ipython",
    "version": 3
   },
   "file_extension": ".py",
   "mimetype": "text/x-python",
   "name": "python",
   "nbconvert_exporter": "python",
   "pygments_lexer": "ipython3",
   "version": "3.11.3"
  },
  "orig_nbformat": 4
 },
 "nbformat": 4,
 "nbformat_minor": 2
}
